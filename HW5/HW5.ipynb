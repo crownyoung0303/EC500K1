{
 "cells": [
  {
   "cell_type": "markdown",
   "metadata": {},
   "source": [
    "<h4 align=\"right\">by Weichao Zhou <br> with help of Brian Kulis<br> </h4>\n",
    "<h1>Problem Set 5</h1>\n"
   ]
  },
  {
   "cell_type": "markdown",
   "metadata": {},
   "source": [
    "### Problem 1: Markov Decision Process (MDP)\n",
    "\n",
    "Markov decision process (MDP) is a discrete time stochastic control process which has been used to modele decision making problems solved via dynamic programming and reinforcement learning. We will review the formal definition of MDP and build a simple MDP model.\n",
    "\n",
    "A Markov Decision Process (MDP) is a tuple $M = (S, A, T, \\gamma, R)$.\n",
    "* $S$ is a finite set of states; \n",
    "* $A$ is a set of actions; \n",
    "* $T : S \\times A \\times S\\rightarrow [0, 1]$ is a transition function describing the probability of transitioning from one state $s\\in S$ to another state by taking action $a\\in A$ in state $s$; \n",
    "* $\\gamma\\in [0, 1)$ is a discount factor indicating how the importance of future reward attenuates.\n",
    "* $R:S\\times A\\rightarrow \\mathbb{R}$ or $R:S\\rightarrow \\mathbb{R}$ is a reward function which maps each state-action pair to a real number indicating the reward of being in state $s$. For simplicity, let's only consider the second case, equivalently assuming $\\forall a, R(s,a)=R(s)$; \n",
    "\n",
    "A deterministic and stationary (or memoryless) policy $\\pi : S \\rightarrow A$ for an\n",
    "MDP $M$ is a mapping from states to actions, i.e. the policy deterministically\n",
    "selects which action to take solely based on the current state. \n",
    "\n",
    "A trajectory $\\tau= s_0 \\rightarrow s_1 \\rightarrow s_2 , \\ldots$, is a sequence of states where each $s_t \\in S$. The accumulated reward of $\\tau$ is $\\sum^\\infty_{t=0} \\gamma^t R(s_t)$.\n",
    "\n",
    "Value function $V_\\pi : S \\rightarrow \\mathbb{R}$ measures the expectation of accumulated reward starting from $s_0$ and following policy $\\pi$. $$V_\\pi(s_0)= \\mathbb{E}_\\pi[\\sum^\\infty_{t=0} \\gamma^t R(s_t)]$$. \n",
    "\n",
    "Q-function $Q_\\pi: S\\times A\\rightarrow \\mathbb{R}$ measures the expectation of accumulated reward of performing action $a_0\\in A$ in state $s_0\\in S$ at first step and then following policy $\\pi$ afterwards. $$Q_\\pi(s_0, a_0)= R(s_0) +  \\gamma\\cdot\\sum_{s_1\\in S}T(s_0, a_0, s_1)\\mathbb{E}_\\pi[\\sum^\\infty_{t=1} \\gamma^{t-1} R(s_t)]$$ \n",
    "\n",
    "According to **``Bellman Equations``**, for all $s\\in S, a\\in A$, $V_\\pi$ and $Q_\\pi$ satisfies:\n",
    "* $V_\\pi(s)=R(s)+\\gamma\\sum_{s'}T(s, \\pi(s), s')V_\\pi(s')$\n",
    "* $Q_\\pi(s,a)=R(s)+\\gamma\\sum_{s'}T(s, a, s') V_\\pi(s')$\n",
    "\n",
    "\n",
    "An optimal policy $\\pi$ for MDP $M$ is a policy that maximizes the Q-function at every state: \n",
    "* $\\pi(s)\\in argmax_{a\\in A} Q_\\pi(s,a)$"
   ]
  },
  {
   "cell_type": "markdown",
   "metadata": {},
   "source": [
    "**Q1.1**: For an MDP with finite state space and action space, we can use matrices to represent the mapping relations for transition function, reward function, policy, value function and Q-function. Please find the `mdp.py` file and finish the function below that implements the second Bellman equation as shown above. This function should take a value function(matrix) as input, solve the corresponding Q-function(matrix), then output a myopic policy $argmax_{a\\in A} Q(s,a)$ as well as its corresponding state-action value $max_{a\\in A} Q(s,a)$."
   ]
  },
  {
   "cell_type": "code",
   "execution_count": 9,
   "metadata": {},
   "outputs": [],
   "source": [
    "from __future__ import division\n",
    "import math\n",
    "import sys\n",
    "import random\n",
    "\n",
    "import numpy as np\n",
    "import scipy.sparse as sp\n",
    "\n",
    "import matplotlib.pyplot as plt\n",
    "import pylab\n",
    "\n",
    "from mdp import MDP\n",
    "\n",
    "    \n",
    "def BellmanUpdate(self, V=None):\n",
    "    # Apply the Bellman operation on the value function V to make a single\n",
    "    # update on the value function and policy.\n",
    "    #\n",
    "    # Returns: (policy, value), tuple of improved policy and its value\n",
    "    #\n",
    "    if V is None:\n",
    "        # this V should be a reference to the data rather than a copy\n",
    "        V = self.V\n",
    "    \n",
    "    try:\n",
    "        assert V.shape in ((self.S,), (1, self.S)), (\n",
    "        \"Warning: shape of V is not right shape.\")\n",
    "    except AttributeError:\n",
    "        raise TypeError(\"V must be a numpy array or matrix.\")\n",
    "    ## Initialize an empty Q-function\n",
    "    Q = np.empty((self.A, self.S))\n",
    "\n",
    "    ## Implement the second Bellman Equation: use reward function and value function \n",
    "    ## to represent the Q-function.\n",
    "\n",
    "    ## >>>>>>>>>>>>>>>>>>>>>code required<<<<<<<<<<<<<<<<<<<<<<<<<<##\n",
    "    raise Exception(\"At most two line of code is needed here. \\\n",
    "    Refer to the secton Bellman Equation mentioned above. \\\n",
    "    Solve the Q-function by using reward function self.M.R, \\\n",
    "    transition function self.M.T \\\n",
    "    and value function V.\")\n",
    "    ## >>>>>>>>>>>>>>>>>>>>>code required<<<<<<<<<<<<<<<<<<<<<<<<<<##\n",
    "    \n",
    "    return (Q.argmax(axis=0), Q.max(axis=0))\n",
    "\n",
    "MDP.BellmanUpdate = BellmanUpdate"
   ]
  },
  {
   "cell_type": "markdown",
   "metadata": {},
   "source": [
    "**Q1.2:** Now we have a $8\\times 8$ Grid World based on the MDP we built in Q1.1. An agent can start from the upper-left corner and moves from cell to cell until it reaches the lower-right corner. At each step, the agent can choose to stay in current cell or move to an adjacent cell but with 20% chance of moving randomly. Please run the following code to draw a reward mapping of the grid world in grey scale and draw a reward-state plot with its y-axle being the reward and the x-axle being the state index. Think about how to solve a policy that can maximally gain the accumulated rewards. Note that light cells have higher rewards than dark cells. The program for the grid world can be found in `mdp.py` file."
   ]
  },
  {
   "cell_type": "code",
   "execution_count": 10,
   "metadata": {},
   "outputs": [
    {
     "data": {
      "image/png": "[encoded data removed]",
      "text/plain": [
       "<Figure size 432x288 with 1 Axes>"
      ]
     },
     "metadata": {
      "needs_background": "light"
     },
     "output_type": "display_data"
    },
    {
     "data": {
      "image/png": "[encoded data removed]",
      "text/plain": [
       "<Figure size 432x288 with 1 Axes>"
      ]
     },
     "metadata": {
      "needs_background": "light"
     },
     "output_type": "display_data"
    }
   ],
   "source": [
    "from mdp import gridworld \n",
    "\n",
    "\n",
    "###Let's draw the gridworld\n",
    "grids = gridworld(8)\n",
    "\n",
    "###Let's draw the reward mapping of the gridworld\n",
    "grids.draw_grids()\n",
    "\n",
    "###Let's draw a plot of the rewards. \n",
    "##The x-axle is the index of states.\n",
    "##The y-axle is the reward.\n",
    "grids.draw_plot(rewards = grids.M.R)\n"
   ]
  },
  {
   "cell_type": "markdown",
   "metadata": {},
   "source": [
    "### Problem 2: Policy Iteration Algorithm"
   ]
  },
  {
   "cell_type": "markdown",
   "metadata": {},
   "source": [
    "In this problem set, we will implement policy iteration algorithm. Recall the policy iteration algorithm. Please find the `PolicyIteration` class in `mdp.py`. The algorithm is based on the MDP we have previously built. Especially, the `BellmanUpdate` function in **Q1.1** will be used."
   ]
  },
  {
   "cell_type": "markdown",
   "metadata": {},
   "source": [
    "**Q2.1:** Complete the function below. The goal is to calculate the value function of a given policy through iteration. When the policy is given, the transition probability becomes $P(s, s')= T(s, \\pi(s), s')$. Use $P$ and reward function $R$ to solve "
   ]
  },
  {
   "cell_type": "code",
   "execution_count": 11,
   "metadata": {},
   "outputs": [],
   "source": [
    "from mdp import PolicyIteration\n",
    "\n",
    "def ValueUpdate(self, epsilon = 1E-10, max_iter = 10000):\n",
    "        # Calculate the value function of the policy iteratively.\n",
    "        #\n",
    "        # Observe the Bellman Equation.\n",
    "        # The policy, rewards, transition probabilities are all given.\n",
    "        # Value function can be calculated iteratively until convergence.\n",
    "        # Think about why does it converge?????\n",
    "        if epsilon is None:\n",
    "            epsilon = self.M.epsilon\n",
    "        if max_iter is None:\n",
    "            max_iter = self.M.max_iter  \n",
    "            \n",
    "        # The transition probability determined by the policy\n",
    "        P = self.TransitionUpdate()\n",
    "        assert P.shape == (self.M.S, self.M.S)\n",
    "        # Reset the Value function to be equal to the Reward function\n",
    "        self.M.V = self.M.R.copy()\n",
    "        \n",
    "        itr = 0\n",
    "        \n",
    "        ## >>>>>>>>>>>>>>>>>>>>>code required<<<<<<<<<<<<<<<<<<<<<<<<<<##\n",
    "        raise Exception(\"Use reward function self.M.R and transition probability P\\ \n",
    "        to iteratively solve the value function self.M.V under the current policy\\ \n",
    "        till converge.\")\n",
    "        ## >>>>>>>>>>>>>>>>>>>>>code required<<<<<<<<<<<<<<<<<<<<<<<<<<##\n",
    "        return self.M.V\n",
    "\n",
    "PolicyIteration.ValueUpdate = ValueUpdate"
   ]
  },
  {
   "cell_type": "markdown",
   "metadata": {},
   "source": [
    "**Q2.2:** Implement the policy iteration algorithm to solve the optimal policy for the $8\\times 8$ grid world. Please run the following code to draw the value mapping in grey scale, the value-state plot as well as the optimal policy diagram where different actions are indicated by different colors."
   ]
  },
  {
   "cell_type": "code",
   "execution_count": null,
   "metadata": {},
   "outputs": [],
   "source": [
    "###Let's initialize a Reinforcement Learning agent that implement Policy Iteration\n",
    "agent = PolicyIteration(grids.M, policy_init = None)\n",
    "agent.iterate()\n",
    "\n",
    "###Let's draw the value mapping of the gridworld\n",
    "grids.draw_grids(grids.M.V)\n",
    "\n",
    "###Let's draw the value plot of the states\n",
    "grids.draw_plot(values = grids.M.V)\n",
    "\n",
    "###Let's draw the optimal policy of the gridworld\n",
    "grids.draw_policy()"
   ]
  },
  {
   "cell_type": "markdown",
   "metadata": {},
   "source": [
    "**Q2.3:** Besides using dynamic programming, we can solve value function of a given policy through a linear equation. Observe  Bellman Equation and note that the value function, transition probabilities and reward functions are all matricies. Please use **one line** of code to solve the value function of a given policy."
   ]
  },
  {
   "cell_type": "code",
   "execution_count": 13,
   "metadata": {},
   "outputs": [],
   "source": [
    "def ValueUpdate_LQ(self):\n",
    "    # Calculate the value function of the policy by solving a linear equation.\n",
    "    #\n",
    "    # Observe the Bellman Equation. \n",
    "    # The policy, rewards, transition probabilities are all given. \n",
    "    # Can you solve the value function(matrix) by solving a linear equation?\n",
    "    # Think about how to do it. \n",
    "    \n",
    "    P = self.TransitionUpdate()\n",
    "    \n",
    "    ## >>>>>>>>>>>>>>>>>>>>>code required<<<<<<<<<<<<<<<<<<<<<<<<<<##\n",
    "    raise Exception(\"Use one line of code to solve the value function from a linear equation\")\n",
    "    ## >>>>>>>>>>>>>>>>>>>>>code required<<<<<<<<<<<<<<<<<<<<<<<<<<##\n",
    "    return self.M.V\n",
    "\n",
    "PolicyIteration.ValueUpdate = ValueUpdate_LQ"
   ]
  },
  {
   "cell_type": "markdown",
   "metadata": {},
   "source": [
    "**Q2.4:** Use the code in Q2.3 to replace the function in Q2.1 and Redo Q2.2. The generated graphs should be almost the same as Q2.2."
   ]
  },
  {
   "cell_type": "code",
   "execution_count": null,
   "metadata": {},
   "outputs": [],
   "source": [
    "###Let's initialize a Reinforcement Learning agent that implement Policy Iteration\n",
    "grids = None\n",
    "agent = None\n",
    "\n",
    "grids = gridworld(8)\n",
    "agent = PolicyIteration(grids.M, policy_init = None)\n",
    "agent.iterate()\n",
    "\n",
    "###Let's draw the value mapping of the gridworld\n",
    "grids.draw_grids(grids.M.V)\n",
    "\n",
    "###Let's draw the value plot of the states\n",
    "grids.draw_plot(values = grids.M.V)\n",
    "\n",
    "###Let's draw the optimal policy of the gridworld\n",
    "grids.draw_policy()"
   ]
  },
  {
   "cell_type": "markdown",
   "metadata": {},
   "source": [
    "### Problem 3: Deep Q-Learning\n",
    "\n",
    "Policy Iteration may be efficient in solving small scale RL problems where the transition model is given. However, it is expensive to solve large scale RL problem where transition function is not explicitly known. In this problem set, we will use deep Q-learning to solve an optimal policy for a large grid world. Now we wrap up the grid world and treat it as an unknown environment. A learning agent can interact with the environment by performing an actions and receiving from the environment an observation(or state), reward and other information. Please run the program below to observe how the interaction works. Although the size of grid world is set to 50x50, you can change it to any large number as you like. Just be aware that when the size is too large, the environment may takes longer time to give the feed back. "
   ]
  },
  {
   "cell_type": "code",
   "execution_count": 15,
   "metadata": {
    "scrolled": true
   },
   "outputs": [
    {
     "name": "stdout",
     "output_type": "stream",
     "text": [
      "From state:[0], perform action:1, to state:[1], get reward:[0.91435099] \n",
      "From state:[1], perform action:3, to state:[0], get reward:[0.93359397] \n",
      "From state:[0], perform action:4, to state:[50], get reward:[0.91435099] \n",
      "From state:[50], perform action:0, to state:[50], get reward:[0.91435099] \n",
      "From state:[50], perform action:1, to state:[51], get reward:[0.89469423] \n",
      "From state:[51], perform action:0, to state:[51], get reward:[0.89469423] \n",
      "From state:[51], perform action:1, to state:[101], get reward:[0.87546043] \n",
      "From state:[101], perform action:3, to state:[101], get reward:[0.87546043] \n",
      "From state:[101], perform action:3, to state:[100], get reward:[0.89553947] \n",
      "From state:[100], perform action:2, to state:[150], get reward:[0.87718718] \n"
     ]
    }
   ],
   "source": [
    "from mdp import wrapper\n",
    "import random\n",
    "\n",
    "## First wrap the gridworld\n",
    "env = wrapper(gridworld(50))\n",
    "num_actions = env.num_actions()\n",
    "\n",
    "# Just run the code and observe the data types and shapes of the variables\n",
    "state = env.reset()\n",
    "for j in range(10):\n",
    "    action = random.randint(0, num_actions - 1)\n",
    "    state_, reward, done, _ = env.step(action)\n",
    "    print(\"From state:{}, perform action:{}, to state:{}, get reward:{} \".format(state, action, state_, reward))\n",
    "    state = state_.copy()\n",
    "    if done:\n",
    "        break \n"
   ]
  },
  {
   "cell_type": "markdown",
   "metadata": {},
   "source": [
    "**Q3.1:** Now let's build a simple Deep Q-network. Please make sure that torch is installed in your computer. Use the function below to design the network layers. You can use MLP, CNN, or whatever you like. But make sure that you understand <a href=\"https://www.nature.com/articles/nature14236.pdf\">how DQN works</a>, especially what are the input and output. **You are only required to build the neural network layers.** Please refer to the example."
   ]
  },
  {
   "cell_type": "code",
   "execution_count": 55,
   "metadata": {},
   "outputs": [],
   "source": [
    "import torch\n",
    "import torch.nn as nn\n",
    "import torch.nn.functional as func\n",
    "\n",
    "## Theoretically, you can build what ever network as you like, \n",
    "## but make sure that the I/O size must be compatible.\n",
    "\n",
    "class Q_Network(nn.Module):\n",
    "    def __init__(self, input_size, output_size, seed):\n",
    "        \"\"\"Initialize parameters and build model.\n",
    "        Params\n",
    "        ======\n",
    "            input_size (int): What is the input of the Q Network?? What is the size of the input???\n",
    "            output_size (int): What is the output of the Q Network?? What is the size of the output???\n",
    "            seed (int): Random seed\n",
    "        Example\n",
    "        =======\n",
    "        self.l1 = nn.Linear(input_size, 16)\n",
    "        self.l2 = nn.Linear(16, output_size)\n",
    "        \"\"\"\n",
    "        super(Q_Network, self).__init__()\n",
    "        self.seed = torch.manual_seed(seed)\n",
    "        \n",
    "        ## >>>>>>>>>>>>>>>>>>>>>code required<<<<<<<<<<<<<<<<<<<<<<<<<<##\n",
    "        raise Exception(\"Design your Neural Network layers\")\n",
    "        ## >>>>>>>>>>>>>>>>>>>>>code required<<<<<<<<<<<<<<<<<<<<<<<<<<##\n",
    "    def forward(self, input_data):\n",
    "        \"\"\"Build a network that maps input -> output.\n",
    "        Example\n",
    "        =======            \n",
    "        x = func.relu(self.l1(input_data))\n",
    "        x = func.relu(self.l2(x))\n",
    "        return x\n",
    "        \"\"\"\n",
    "        ## >>>>>>>>>>>>>>>>>>>>>code required<<<<<<<<<<<<<<<<<<<<<<<<<<##\n",
    "        raise Exception(\"Design your Neural Network layers\")\n",
    "        ## >>>>>>>>>>>>>>>>>>>>>code required<<<<<<<<<<<<<<<<<<<<<<<<<<##\n",
    "        \n",
    "        "
   ]
  },
  {
   "cell_type": "markdown",
   "metadata": {},
   "source": [
    "**Q3.2**: Now let's build a simple DQN agent. The agent will \n",
    "\n",
    "* interact with the environment\n",
    "* use Q-Network to choose actions\n",
    "\n",
    "You are only required to finish a few lines of code. After a batch of experiences are read from the buffer, what should the neural network do next? How to define the loss function? Please understand what the classes and functions are doing. You can change the parameters as you like.\n",
    "\n",
    "In the end, please \n",
    "* **write down the loss function of Deep-Q-Learning Network**\n",
    "* **explain why do we need two Q-networks in this model.**"
   ]
  },
  {
   "cell_type": "code",
   "execution_count": 56,
   "metadata": {},
   "outputs": [],
   "source": [
    "import torch\n",
    "import torch.nn.functional as func\n",
    "import torch.optim as optim\n",
    "\n",
    "from collections import namedtuple, deque\n",
    "\n",
    "batch_size = 10000 #How many experiences to use for each training step.\n",
    "update_freq = 4 #How often to perform a training step.\n",
    "gamma = .99 #Discount factor on the target Q-values\n",
    "e_start = 1.0 #Starting chance of random action\n",
    "e_end = 0.001 #Final chance of random action\n",
    "annealing_steps = 100. #How many steps of training to reduce startE to endE.\n",
    "num_episodes = 10000 #How many episodes of game environment to train network with.\n",
    "max_epLength = 300 #The max allowed length of our episode.\n",
    "h_size = 512 #The size of the final convolutional layer before splitting it into Advantage and Value streams.\n",
    "tau = 0.001 #Rate to update target network toward primary network\n",
    "\n",
    "e = e_start\n",
    "e_rate = (e_start - e_end)/annealing_steps\n",
    "\n",
    "device = torch.device(\"cuda:0\" if torch.cuda.is_available() else \"cpu\")   "
   ]
  },
  {
   "cell_type": "code",
   "execution_count": null,
   "metadata": {},
   "outputs": [
    {
     "name": "stdout",
     "output_type": "stream",
     "text": [
      "Episode 0\tAverage Reward: 247.40\n",
      "Episode 100\tAverage Reward: 275.29\n",
      "Episode 200\tAverage Reward: 270.81\n",
      "Episode 300\tAverage Reward: 267.38\n",
      "Episode 400\tAverage Reward: 265.33\n",
      "Episode 500\tAverage Reward: 265.24\n",
      "Episode 600\tAverage Reward: 264.62\n",
      "Episode 700\tAverage Reward: 264.51\n",
      "Episode 800\tAverage Reward: 264.05\n",
      "Episode 895\tAverage Reward: 268.81"
     ]
    }
   ],
   "source": [
    "class experience_buffer():\n",
    "    def __init__(self, buffer_size = 50000):\n",
    "        # Define memory stack\n",
    "        self.memory = deque(maxlen=buffer_size)\n",
    "        # Each experience is a named tuple \n",
    "        self.to_experience = namedtuple(\"Experience\", field_names=[\"state\", \"action\", \"reward\", \"next_state\", \"done\"])\n",
    "        \n",
    "    def add(self, state, action, reward, next_state, done):\n",
    "        # Add experience to the memory stack\n",
    "        self.memory.append(self.to_experience(state, action, reward, next_state, done))\n",
    "            \n",
    "    def sample(self, size):\n",
    "        # Randomly choose k experiences\n",
    "        experiences = random.sample(self.memory, k = size)\n",
    "        # Extract the elements of the experiences \n",
    "        states = torch.from_numpy(np.vstack([e.state for e in experiences if e is not None])).float().to(device)\n",
    "        actions = torch.from_numpy(np.vstack([e.action for e in experiences if e is not None])).long().to(device)\n",
    "        rewards = torch.from_numpy(np.vstack([e.reward for e in experiences if e is not None])).float().to(device)\n",
    "        next_states = torch.from_numpy(np.vstack([e.next_state for e in experiences if e is not None])).float().to(device)\n",
    "        dones = torch.from_numpy(np.vstack([e.done for e in experiences if e is not None]).astype(np.uint8)).float().to(device)\n",
    "  \n",
    "        return (states, actions, rewards, next_states, dones)\n",
    "    def __len__(self):\n",
    "        #Return the current size of internal memory.\n",
    "        return len(self.memory)\n",
    "\n",
    "\n",
    "\n",
    "class dqn_agent(object):\n",
    "    def __init__(self, state_size = 1, action_size = 5, seed = 0):\n",
    "        # The size of each state returned by the environment\n",
    "        self.state_size = state_size\n",
    "        \n",
    "        # The size of the action to be output to the environment\n",
    "        self.action_size = action_size\n",
    "        \n",
    "        self.seed = seed\n",
    "        \n",
    "        # Define two Q-networks\n",
    "        self.qnetwork = Q_Network(state_size, action_size, self.seed).to(device)\n",
    "        self.qnetwork_target = Q_Network(state_size, action_size, self.seed).to(device)\n",
    "        \n",
    "        # Define optimizer for one of the Q-networks\n",
    "        self.optimizer = optim.Adam(self.qnetwork.parameters(), lr=1e-4)\n",
    "\n",
    "        # Define a memory buffer to store experiences\n",
    "        self.myBuffer = experience_buffer()\n",
    "\n",
    "    def choose_action(self, state, epsilon = None):\n",
    "        # Choose one action according to the current state\n",
    "        \n",
    "        if epsilon is None:\n",
    "            epsilon = eps\n",
    "        \n",
    "        # Feed the input\n",
    "        state = torch.from_numpy(state).float().unsqueeze(0).to(device)\n",
    "        self.qnetwork.eval()\n",
    "        with torch.no_grad():\n",
    "            Q_value = self.qnetwork(state)\n",
    "        self.qnetwork.train()\n",
    "\n",
    "        # Epsilon-greedy action selection\n",
    "        max_action = np.argmax(Q_value.cpu().data.numpy())\n",
    "        random_action = random.choice(np.arange(self.action_size))\n",
    "        if random.random() > epsilon:\n",
    "            action = max_action\n",
    "        else:\n",
    "            action = random_action\n",
    "            \n",
    "        return action, max_action\n",
    "    \n",
    "    def optimize(self):\n",
    "        # Feed experience to the buffer if it is not full\n",
    "        if len(self.myBuffer) < batch_size:\n",
    "            return\n",
    "        \n",
    "        #Get a random batch of experiences.\n",
    "        states, actions, rewards, next_states, dones = self.myBuffer.sample(batch_size) \n",
    "       \n",
    "        # Get max predicted Q values (for next states) from target model\n",
    "        ## >>>>>>>>>>>>>>>>>>>>>code required<<<<<<<<<<<<<<<<<<<<<<<<<<##\n",
    "        raise Exception(\"After a batch of experiences have been read from the buffer, \\\n",
    "                        what should the DQN do next? How to define the loss function?\")\n",
    "        ## >>>>>>>>>>>>>>>>>>>>>code required<<<<<<<<<<<<<<<<<<<<<<<<<<##\n",
    "        \n",
    "        self.optimizer.zero_grad()\n",
    "        loss.backward()\n",
    "        self.optimizer.step()\n",
    "\n",
    "        # ------------------- update target network ------------------- #\n",
    "        for target_param, param in zip(self.qnetwork_target.parameters(), self.qnetwork.parameters()):\n",
    "            target_param.data.copy_(tau*param.data + (1.0-tau)*target_param.data)\n",
    "\n",
    "        \n",
    "def train(agent): \n",
    "    #create lists to contain total rewards\n",
    "    total_rewards = []\n",
    "    total_steps = 0\n",
    "    e = e_start\n",
    "    for i in range(num_episodes):\n",
    "        #Reset environment and get first new observation\n",
    "        state = env.reset()\n",
    "        done = False\n",
    "        total_reward = 0\n",
    "        j = 0\n",
    "        #The Q-Network\n",
    "        while j < max_epLength: #If the agent takes longer than max_epLength moves to reach either of the blocks, end the trial.\n",
    "            j+=1\n",
    "            #Choose an action by greedily (with e chance of random action) from the Q-network\n",
    "            action, _ = agent.choose_action(state, e)\n",
    "            e = max(e_end, e - e_rate)\n",
    "            next_state, reward, done, _ = env.step(action)\n",
    "\n",
    "            #Save the experience to our episode buffer.\n",
    "            agent.myBuffer.add(state, action, reward, next_state, done) \n",
    "\n",
    "            if total_steps % (update_freq) == 0:\n",
    "                agent.optimize()\n",
    "\n",
    "            total_steps += 1\n",
    "            total_reward += reward\n",
    "            state = next_state\n",
    "            \n",
    "            if done == True:\n",
    "                break\n",
    "\n",
    "        total_rewards.append(total_reward)\n",
    "        #Periodically save the model. \n",
    "        print('\\rEpisode {}\\tAverage Reward: {:.2f}'.format(i, np.mean(total_reward[-10:])), end=\"\")\n",
    "        if i % 100 == 0:\n",
    "            print('\\rEpisode {}\\tAverage Reward: {:.2f}'.format(i, np.mean(total_rewards)))\n",
    "        if np.mean(total_rewards)>=max_epLength:\n",
    "            print('\\nEnvironment solved in {:d} episodes!\\tAverage reward: {:.2f}'.format(i-100, np.mean(total_rewards)))\n",
    "            break\n",
    "    torch.save(agent.qnetwork.state_dict(), 'checkpoint.pth')\n",
    "    fig = plt.figure()\n",
    "    ax = fig.add_subplot(111)\n",
    "    plt.plot(np.arange(len(total_rewards)), total_rewards)\n",
    "    plt.ylabel('Total Rewards')\n",
    "    plt.xlabel('Episode #')\n",
    "    plt.show()\n",
    "                \n",
    "agent = dqn_agent()\n",
    "train(agent)\n"
   ]
  },
  {
   "cell_type": "markdown",
   "metadata": {},
   "source": [
    "**Answer:**\n",
    "    \n",
    "    "
   ]
  },
  {
   "cell_type": "markdown",
   "metadata": {},
   "source": [
    "**Q3.3** Check how good the DQN works. Enumerate all the states in the grid world and use the trained DQN to select the action for each state. Then draw the reward mapping graph and policy diagram. It is your freedom to change the parameters and structure of the DQN, or even rewrite the entire program. "
   ]
  },
  {
   "cell_type": "code",
   "execution_count": null,
   "metadata": {
    "scrolled": false
   },
   "outputs": [],
   "source": [
    "# load the weights from file\n",
    "\n",
    "agent.qnetwork.load_state_dict(torch.load('checkpoint.pth'))\n",
    "\n",
    "policy = list()\n",
    "for state in range(env.num_states()):\n",
    "    ##>>>>>>>>>>>>Code Required<<<<<<<<<<<<\n",
    "    raise Exception(\"Which action does the DQN choose in this state?\")\n",
    "    ##>>>>>>>>>>>>Code Required<<<<<<<<<<<<\n",
    "    policy.append(action)\n",
    "    \n",
    "env.render_rewards()\n",
    "env.render_policy(policy)"
   ]
  },
  {
   "cell_type": "markdown",
   "metadata": {},
   "source": [
    "### Problem 4: Actor-Critic Algorithm"
   ]
  },
  {
   "cell_type": "markdown",
   "metadata": {},
   "source": [
    "**Q4.1** Understand what is actor-critic learning. Please review the slides or search materials on line by yourself and\n",
    "* **write down the loss functions** \n",
    "* **explain what do actor and critic respectively mean in this algorithm.**"
   ]
  },
  {
   "cell_type": "markdown",
   "metadata": {},
   "source": [
    "**Answer:**\n",
    "\n"
   ]
  },
  {
   "cell_type": "markdown",
   "metadata": {},
   "source": [
    "**Q4.2**. Install Atari Emulator from <a href=\"https://github.com/mgbellemare/Arcade-Learning-Environment\">here</a>. Use a pretrained actor-critic neural network model to play the breakout game. Run the program. There will be a gif image generated in the current folder. Feel free to implement your own deep actor-critic learning agent or use the DQN we have built in Problem 3."
   ]
  },
  {
   "cell_type": "code",
   "execution_count": null,
   "metadata": {},
   "outputs": [],
   "source": [
    "import tensorflow as tf\n",
    "import numpy as np\n",
    "import random\n",
    "import os\n",
    "\n",
    "\n",
    "from atari_emulator import AtariEmulator\n",
    "from ale_python_interface import ALEInterface\n",
    "import imagio\n",
    "\n",
    "BIN = \"atari_roms/breakout.bin\"\n",
    "noops = 30\n",
    "test_count = 1\n",
    "\n",
    "writer = imagio.get_writer('breakout.gif', fps = 30)\n",
    "\n",
    "def append_frame(frame):\n",
    "    writer.append_data(frame)\n",
    "\n",
    "def create_environment():\n",
    "    ale_int = ALEInterface()\n",
    "    ale_int.loadROM(str.encode(BIN))\n",
    "    num_actions = len(ale_int.getMinimalActionSet())\n",
    "    return AtariEmulator(BIN), num_actions\n",
    "\n",
    "\n",
    "def choose_next_actions(num_actions, states, session):\n",
    "    policy, value = session.run(['local_learning_2/actor_output_policy:0', 'local_learning_2/critic_output_out:0'], feed_dict = {'local_learning/input:0': states})\n",
    "    policy = policy - np.finfo(np.float32).epsneg\n",
    "\n",
    "    action_indices = [int(np.nonzero(np.random.multinomial(1, p))[0]) for p in policy]\n",
    "\n",
    "    new_actions = np.eye(num_actions)[action_indices]\n",
    "\n",
    "    return new_actions, value, policy\n",
    "\n",
    "\n",
    "def run():\n",
    "    environment, num_actions = create_environment()\n",
    "    environment.on_new_frame = append_frame\n",
    "    \n",
    "    checkpoints_ = \"pretrained/breakout/checkpoints/\"\n",
    "    with tf.Session() as sess:\n",
    "        meta_ = os.path.join(checkpoints_, \"ac.meta\")\n",
    "\n",
    "        saver = tf.train.import_meta_graph(meta_)\n",
    "        saver.restore(sess, tf.train.latest_checkpoint(checkpoints_))\n",
    "\n",
    "        states = np.array([environment.get_initial_state()])\n",
    "        if noops != 0:\n",
    "            for _ in range(random.randint(0, noops)):\n",
    "                state, _, _ = environment.next(environment.get_noop())\n",
    "\n",
    "        episodes_over = np.zeros(test_count, dtype=np.bool)\n",
    "        rewards = np.zeros(1, dtype=np.float32)\n",
    "        while not all(episodes_over):\n",
    "            actions, _, _ = choose_next_actions(num_actions, states, sess)\n",
    "\n",
    "            state, reward, episode_over = environment.next(actions[0])\n",
    "            states = np.array([state])\n",
    "            rewards[0] += reward\n",
    "            episodes_over[0] = episode_over\n",
    "\n",
    "        print('Performed {} tests for breakout.'.format(test_count))\n",
    "        print('Mean: {0:.2f}'.format(np.mean(rewards)))\n",
    "        print('Min: {0:.2f}'.format(np.min(rewards)))\n",
    "        print('Max: {0:.2f}'.format(np.max(rewards)))\n",
    "        print('Std: {0:.2f}'.format(np.std(rewards)))\n",
    "\n",
    "run()\n",
    "\n",
    "from IPython.display import HTML\n",
    "HTML('<img src=\"breakout.gif\">')"
   ]
  }
 ],
 "metadata": {
  "anaconda-cloud": {},
  "kernelspec": {
   "display_name": "Python 3",
   "language": "python",
   "name": "python3"
  },
  "language_info": {
   "codemirror_mode": {
    "name": "ipython",
    "version": 3
   },
   "file_extension": ".py",
   "mimetype": "text/x-python",
   "name": "python",
   "nbconvert_exporter": "python",
   "pygments_lexer": "ipython3",
   "version": "3.6.4"
  }
 },
 "nbformat": 4,
 "nbformat_minor": 2
}
